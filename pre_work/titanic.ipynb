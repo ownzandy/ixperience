{
 "cells": [
  {
   "cell_type": "code",
   "execution_count": 2,
   "metadata": {
    "collapsed": true
   },
   "outputs": [],
   "source": [
    "import numpy as np"
   ]
  },
  {
   "cell_type": "code",
   "execution_count": 3,
   "metadata": {
    "collapsed": true
   },
   "outputs": [],
   "source": [
    "import pandas as pd"
   ]
  },
  {
   "cell_type": "code",
   "execution_count": 8,
   "metadata": {},
   "outputs": [],
   "source": [
    "train = pd.read_csv('./train.csv', header = 0, dtype={'Age': np.float64})"
   ]
  },
  {
   "cell_type": "code",
   "execution_count": 15,
   "metadata": {
    "collapsed": true
   },
   "outputs": [],
   "source": [
    "test = pd.read_csv('./test.csv', header = 0, dtype={'Age': np.float64})"
   ]
  },
  {
   "cell_type": "code",
   "execution_count": 17,
   "metadata": {
    "collapsed": true
   },
   "outputs": [],
   "source": [
    "def preprocess_features(dataframe):\n",
    "    selected_features = dataframe[[\"Pclass\"]]\n",
    "    processed_features = selected_features.copy()\n",
    "    processed_features[\"Male\"] = (dataframe[\"Sex\"] == 'male').astype(int)\n",
    "    processed_features[\"Female\"] = (dataframe[\"Sex\"] == 'female').astype(int)\n",
    "    processed_features[\"FamilySize\"] = dataframe[\"SibSp\"] + dataframe[\"Parch\"]\n",
    "\n",
    "    processed_features[\"Age_0-10\"] = (dataframe[\"Age\"] < 10).astype(int)\n",
    "    processed_features[\"Age_10-25\"] = ((dataframe[\"Age\"] >= 10) & (dataframe[\"Age\"] < 25)).astype(int)\n",
    "    processed_features[\"Age_25-40\"] = ((dataframe[\"Age\"] >= 25) & (dataframe[\"Age\"] < 40)).astype(int)\n",
    "    processed_features[\"Age_40+\"] = ((dataframe[\"Age\"] >= 40)).astype(int)\n",
    "\n",
    "    processed_features[\"Fare_0-5\"] = (dataframe[\"Fare\"] < 5).astype(int)\n",
    "    processed_features[\"Fare_5-30\"] = ((dataframe[\"Fare\"] >= 5) & (dataframe[\"Age\"] < 30)).astype(int)\n",
    "    processed_features[\"Fare_30-90\"] = ((dataframe[\"Fare\"] >= 30) & (dataframe[\"Age\"] < 90)).astype(int)\n",
    "    processed_features[\"Fare_90+\"] = ((dataframe[\"Fare\"] >= 90)).astype(int)\n",
    "    return processed_features"
   ]
  },
  {
   "cell_type": "code",
   "execution_count": 18,
   "metadata": {
    "collapsed": true
   },
   "outputs": [],
   "source": [
    "def preprocess_targets(dataframe):\n",
    "    return dataframe[\"Survived\"]"
   ]
  },
  {
   "cell_type": "code",
   "execution_count": null,
   "metadata": {
    "collapsed": true
   },
   "outputs": [],
   "source": [
    "train = train.reindex(np.random.permutation(train_df.index))\n",
    "train_data = preprocess_features(train)\n",
    "train_targets = preprocess_targets(train)\n",
    "\n",
    "test_data = preprocess_features(test)"
   ]
  }
 ],
 "metadata": {
  "kernelspec": {
   "display_name": "Python 3",
   "language": "python",
   "name": "python3"
  },
  "language_info": {
   "codemirror_mode": {
    "name": "ipython",
    "version": 3
   },
   "file_extension": ".py",
   "mimetype": "text/x-python",
   "name": "python",
   "nbconvert_exporter": "python",
   "pygments_lexer": "ipython3",
   "version": "3.6.0"
  }
 },
 "nbformat": 4,
 "nbformat_minor": 2
}
